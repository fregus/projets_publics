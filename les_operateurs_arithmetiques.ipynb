{
 "cells": [
  {
   "cell_type": "markdown",
   "metadata": {},
   "source": [
    "# Les opérateurs\n",
    "\n",
    "## 0. Définition\n",
    "Un opérateur est un symbole (ou un mot réservé) utilisé pour effectuer une opération entre des opérandes.\n",
    "\n",
    "Une opérande est une variable, un littéral ou bien une expression.\n",
    "\n",
    "Une expression est une suite valide d'opérateurs et d'opérandes.\n",
    "\n",
    "## I. les opérateurs mathématiques \n",
    "\n",
    "### 1. Addition"
   ]
  },
  {
   "cell_type": "code",
   "execution_count": null,
   "metadata": {},
   "outputs": [],
   "source": [
    "a = 2\n",
    "b = 3\n",
    "c = a + b\n",
    "print(c)"
   ]
  },
  {
   "cell_type": "markdown",
   "metadata": {},
   "source": [
<<<<<<< HEAD
    "## III. Les opérateurs de comparaison\n",
    "Ils renvoient `True` ou `False` et s'appliquent à tous les types de base.\n",
    "\n",
    "- < : strictement inférieur\n",
    "- > : strictement supérieur\n",
    "- <= : inférieur ou égal\n",
    "- >= : supérieur ou égal\n",
    "- == : est égal à\n",
    "- != : est différent de\n",
    "\n"
=======
    " ## II. Les opérateurs booléens\n",
    " "
   ]
  },
  {
   "cell_type": "markdown",
   "metadata": {},
   "source": [
    "### 1. Opérateurs  \"and\" et \"or\"\n"
   ]
  },
  {
   "cell_type": "code",
   "execution_count": 3,
   "metadata": {
    "scrolled": true
   },
   "outputs": [
    {
     "name": "stdout",
     "output_type": "stream",
     "text": [
      "True\n",
      "False\n"
     ]
    }
   ],
   "source": [
    "a = True\n",
    "b = False\n",
    "c = a or b\n",
    "d = a and b\n",
    "print(c)\n",
    "print(d)"
>>>>>>> 35633056812a755442ac166003c8fb4ec7ee3361
   ]
  },
  {
   "cell_type": "code",
   "execution_count": null,
   "metadata": {},
   "outputs": [],
   "source": []
  }
 ],
 "metadata": {
  "celltoolbar": "Format de la Cellule Texte Brut",
  "kernelspec": {
   "display_name": "Python 3",
   "language": "python",
   "name": "python3"
  },
  "language_info": {
   "codemirror_mode": {
    "name": "ipython",
    "version": 3
   },
   "file_extension": ".py",
   "mimetype": "text/x-python",
   "name": "python",
   "nbconvert_exporter": "python",
   "pygments_lexer": "ipython3",
   "version": "3.7.3"
  }
 },
 "nbformat": 4,
 "nbformat_minor": 2
}
