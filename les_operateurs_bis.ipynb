{
 "cells": [
  {
   "cell_type": "markdown",
   "metadata": {},
   "source": [
    "# Les opérateurs\n",
    "## 0. Définition\n",
    "Un opérateur est un symbole (ou un mot réservé) utilisé pour effectuer une opération entre des opérandes.\n",
    "\n",
    "Une opérande est une variable, un littéral ou bien une expression.\n",
    "\n",
    "Une expression est une suite valide d'opérateurs et d'opérandes.\n",
    "\n",
    "## I. les opérateurs mathématiques\n",
    "### 1. Addition\n",
    "On peut commencer par ajouter des nombres entiers"
   ]
  },
  {
   "cell_type": "code",
   "execution_count": null,
   "metadata": {},
   "outputs": [],
   "source": [
    "a = 2\n",
    "b = 3\n",
    "c = a + b\n",
    "print(c)"
   ]
  },
  {
   "cell_type": "markdown",
   "metadata": {},
   "source": [
    "On peut aussi ajouter deux nombres à virgule :"
   ]
  },
  {
   "cell_type": "code",
   "execution_count": null,
   "metadata": {},
   "outputs": [],
   "source": [
    "a = 2.0\n",
    "b = 3\n",
    "c = a + b\n",
    "print(c)"
   ]
  },
  {
   "cell_type": "markdown",
   "metadata": {},
   "source": [
    "#### Remarque : \n",
    "Python a transtypé automatiquement l'entier stocké dans b : \n",
    "\n",
    "c est maintenant un nombre à virgule comme le trahit le \".0\" de la valeur affichée par print(c).\n",
    "\n",
    "## II. Les opérateurs booléens\n",
    "### 1. Opérateurs  \"and\" et \"or\"\n",
    "\n",
    "Les opérandes sont alors les deux variables booléennes `True` et `False` :\n"
   ]
  },
  {
   "cell_type": "code",
   "execution_count": null,
   "metadata": {},
   "outputs": [],
   "source": [
    "a = True\n",
    "b = False\n",
    "c = a or b\n",
    "d = a and b\n",
    "print(c)\n",
    "print(d)"
   ]
  },
  {
   "cell_type": "markdown",
   "metadata": {},
   "source": [
    "## III. Les opérateurs de comparaison,\n",
    "Ils renvoient `True` ou `False` et s'appliquent à tous les types de base.\n",
    " \n",
    "- < : strictement inférieur,\n",
    "- \\> : strictement supérieur,\n",
    "- <= : inférieur ou égal,\n",
    "- \\>= : supérieur ou égal,\n",
    "- == : est égal à,\n",
    "- != : est différent de."
   ]
  },
  {
   "cell_type": "code",
   "execution_count": null,
   "metadata": {},
   "outputs": [],
   "source": [
    "a = 2\n",
    "b = 3\n",
    "c = (a < b)\n",
    "print(c)"
   ]
  }
 ],
 "metadata": {
  "kernelspec": {
   "display_name": "Python 3",
   "language": "python",
   "name": "python3"
  },
  "language_info": {
   "codemirror_mode": {
    "name": "ipython",
    "version": 3
   },
   "file_extension": ".py",
   "mimetype": "text/x-python",
   "name": "python",
   "nbconvert_exporter": "python",
   "pygments_lexer": "ipython3",
   "version": "3.6.8"
  }
 },
 "nbformat": 4,
 "nbformat_minor": 2
}
